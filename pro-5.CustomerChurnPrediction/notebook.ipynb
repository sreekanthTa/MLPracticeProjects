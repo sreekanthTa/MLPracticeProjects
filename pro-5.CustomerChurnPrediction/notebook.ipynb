{
 "cells": [
  {
   "cell_type": "code",
   "execution_count": 19,
   "metadata": {},
   "outputs": [],
   "source": [
    "import pandas as pd"
   ]
  },
  {
   "cell_type": "code",
   "execution_count": 44,
   "metadata": {},
   "outputs": [
    {
     "data": {
      "text/html": [
       "<div>\n",
       "<style scoped>\n",
       "    .dataframe tbody tr th:only-of-type {\n",
       "        vertical-align: middle;\n",
       "    }\n",
       "\n",
       "    .dataframe tbody tr th {\n",
       "        vertical-align: top;\n",
       "    }\n",
       "\n",
       "    .dataframe thead th {\n",
       "        text-align: right;\n",
       "    }\n",
       "</style>\n",
       "<table border=\"1\" class=\"dataframe\">\n",
       "  <thead>\n",
       "    <tr style=\"text-align: right;\">\n",
       "      <th></th>\n",
       "      <th>gender</th>\n",
       "      <th>SeniorCitizen</th>\n",
       "      <th>Partner</th>\n",
       "      <th>Dependents</th>\n",
       "      <th>tenure</th>\n",
       "      <th>PhoneService</th>\n",
       "      <th>MultipleLines</th>\n",
       "      <th>InternetService</th>\n",
       "      <th>OnlineSecurity</th>\n",
       "      <th>OnlineBackup</th>\n",
       "      <th>DeviceProtection</th>\n",
       "      <th>TechSupport</th>\n",
       "      <th>StreamingTV</th>\n",
       "      <th>StreamingMovies</th>\n",
       "      <th>Contract</th>\n",
       "      <th>PaperlessBilling</th>\n",
       "      <th>PaymentMethod</th>\n",
       "      <th>MonthlyCharges</th>\n",
       "      <th>TotalCharges</th>\n",
       "      <th>Churn</th>\n",
       "    </tr>\n",
       "  </thead>\n",
       "  <tbody>\n",
       "    <tr>\n",
       "      <th>0</th>\n",
       "      <td>Female</td>\n",
       "      <td>0</td>\n",
       "      <td>Yes</td>\n",
       "      <td>No</td>\n",
       "      <td>1</td>\n",
       "      <td>No</td>\n",
       "      <td>No phone service</td>\n",
       "      <td>DSL</td>\n",
       "      <td>No</td>\n",
       "      <td>Yes</td>\n",
       "      <td>No</td>\n",
       "      <td>No</td>\n",
       "      <td>No</td>\n",
       "      <td>No</td>\n",
       "      <td>Month-to-month</td>\n",
       "      <td>Yes</td>\n",
       "      <td>Electronic check</td>\n",
       "      <td>29.85</td>\n",
       "      <td>29.85</td>\n",
       "      <td>No</td>\n",
       "    </tr>\n",
       "    <tr>\n",
       "      <th>1</th>\n",
       "      <td>Male</td>\n",
       "      <td>0</td>\n",
       "      <td>No</td>\n",
       "      <td>No</td>\n",
       "      <td>34</td>\n",
       "      <td>Yes</td>\n",
       "      <td>No</td>\n",
       "      <td>DSL</td>\n",
       "      <td>Yes</td>\n",
       "      <td>No</td>\n",
       "      <td>Yes</td>\n",
       "      <td>No</td>\n",
       "      <td>No</td>\n",
       "      <td>No</td>\n",
       "      <td>One year</td>\n",
       "      <td>No</td>\n",
       "      <td>Mailed check</td>\n",
       "      <td>56.95</td>\n",
       "      <td>1889.5</td>\n",
       "      <td>No</td>\n",
       "    </tr>\n",
       "    <tr>\n",
       "      <th>2</th>\n",
       "      <td>Male</td>\n",
       "      <td>0</td>\n",
       "      <td>No</td>\n",
       "      <td>No</td>\n",
       "      <td>2</td>\n",
       "      <td>Yes</td>\n",
       "      <td>No</td>\n",
       "      <td>DSL</td>\n",
       "      <td>Yes</td>\n",
       "      <td>Yes</td>\n",
       "      <td>No</td>\n",
       "      <td>No</td>\n",
       "      <td>No</td>\n",
       "      <td>No</td>\n",
       "      <td>Month-to-month</td>\n",
       "      <td>Yes</td>\n",
       "      <td>Mailed check</td>\n",
       "      <td>53.85</td>\n",
       "      <td>108.15</td>\n",
       "      <td>Yes</td>\n",
       "    </tr>\n",
       "    <tr>\n",
       "      <th>3</th>\n",
       "      <td>Male</td>\n",
       "      <td>0</td>\n",
       "      <td>No</td>\n",
       "      <td>No</td>\n",
       "      <td>45</td>\n",
       "      <td>No</td>\n",
       "      <td>No phone service</td>\n",
       "      <td>DSL</td>\n",
       "      <td>Yes</td>\n",
       "      <td>No</td>\n",
       "      <td>Yes</td>\n",
       "      <td>Yes</td>\n",
       "      <td>No</td>\n",
       "      <td>No</td>\n",
       "      <td>One year</td>\n",
       "      <td>No</td>\n",
       "      <td>Bank transfer (automatic)</td>\n",
       "      <td>42.30</td>\n",
       "      <td>1840.75</td>\n",
       "      <td>No</td>\n",
       "    </tr>\n",
       "    <tr>\n",
       "      <th>4</th>\n",
       "      <td>Female</td>\n",
       "      <td>0</td>\n",
       "      <td>No</td>\n",
       "      <td>No</td>\n",
       "      <td>2</td>\n",
       "      <td>Yes</td>\n",
       "      <td>No</td>\n",
       "      <td>Fiber optic</td>\n",
       "      <td>No</td>\n",
       "      <td>No</td>\n",
       "      <td>No</td>\n",
       "      <td>No</td>\n",
       "      <td>No</td>\n",
       "      <td>No</td>\n",
       "      <td>Month-to-month</td>\n",
       "      <td>Yes</td>\n",
       "      <td>Electronic check</td>\n",
       "      <td>70.70</td>\n",
       "      <td>151.65</td>\n",
       "      <td>Yes</td>\n",
       "    </tr>\n",
       "  </tbody>\n",
       "</table>\n",
       "</div>"
      ],
      "text/plain": [
       "   gender  SeniorCitizen Partner Dependents  tenure PhoneService  \\\n",
       "0  Female              0     Yes         No       1           No   \n",
       "1    Male              0      No         No      34          Yes   \n",
       "2    Male              0      No         No       2          Yes   \n",
       "3    Male              0      No         No      45           No   \n",
       "4  Female              0      No         No       2          Yes   \n",
       "\n",
       "      MultipleLines InternetService OnlineSecurity OnlineBackup  \\\n",
       "0  No phone service             DSL             No          Yes   \n",
       "1                No             DSL            Yes           No   \n",
       "2                No             DSL            Yes          Yes   \n",
       "3  No phone service             DSL            Yes           No   \n",
       "4                No     Fiber optic             No           No   \n",
       "\n",
       "  DeviceProtection TechSupport StreamingTV StreamingMovies        Contract  \\\n",
       "0               No          No          No              No  Month-to-month   \n",
       "1              Yes          No          No              No        One year   \n",
       "2               No          No          No              No  Month-to-month   \n",
       "3              Yes         Yes          No              No        One year   \n",
       "4               No          No          No              No  Month-to-month   \n",
       "\n",
       "  PaperlessBilling              PaymentMethod  MonthlyCharges TotalCharges  \\\n",
       "0              Yes           Electronic check           29.85        29.85   \n",
       "1               No               Mailed check           56.95       1889.5   \n",
       "2              Yes               Mailed check           53.85       108.15   \n",
       "3               No  Bank transfer (automatic)           42.30      1840.75   \n",
       "4              Yes           Electronic check           70.70       151.65   \n",
       "\n",
       "  Churn  \n",
       "0    No  \n",
       "1    No  \n",
       "2   Yes  \n",
       "3    No  \n",
       "4   Yes  "
      ]
     },
     "execution_count": 44,
     "metadata": {},
     "output_type": "execute_result"
    }
   ],
   "source": [
    "df = pd.read_csv(\"Telco-Customer-Churn.csv\")\n",
    "\n",
    "df.drop(columns=['customerID'], axis=1, inplace=True)\n",
    "df.head()"
   ]
  },
  {
   "cell_type": "code",
   "execution_count": 45,
   "metadata": {},
   "outputs": [
    {
     "data": {
      "text/plain": [
       "(7043, 20)"
      ]
     },
     "execution_count": 45,
     "metadata": {},
     "output_type": "execute_result"
    }
   ],
   "source": [
    "df.shape"
   ]
  },
  {
   "cell_type": "code",
   "execution_count": 46,
   "metadata": {},
   "outputs": [
    {
     "data": {
      "text/plain": [
       "gender              0\n",
       "SeniorCitizen       0\n",
       "Partner             0\n",
       "Dependents          0\n",
       "tenure              0\n",
       "PhoneService        0\n",
       "MultipleLines       0\n",
       "InternetService     0\n",
       "OnlineSecurity      0\n",
       "OnlineBackup        0\n",
       "DeviceProtection    0\n",
       "TechSupport         0\n",
       "StreamingTV         0\n",
       "StreamingMovies     0\n",
       "Contract            0\n",
       "PaperlessBilling    0\n",
       "PaymentMethod       0\n",
       "MonthlyCharges      0\n",
       "TotalCharges        0\n",
       "Churn               0\n",
       "dtype: int64"
      ]
     },
     "execution_count": 46,
     "metadata": {},
     "output_type": "execute_result"
    }
   ],
   "source": [
    "df.isna().sum()"
   ]
  },
  {
   "cell_type": "code",
   "execution_count": 47,
   "metadata": {},
   "outputs": [
    {
     "data": {
      "text/plain": [
       "gender               object\n",
       "SeniorCitizen         int64\n",
       "Partner              object\n",
       "Dependents           object\n",
       "tenure                int64\n",
       "PhoneService         object\n",
       "MultipleLines        object\n",
       "InternetService      object\n",
       "OnlineSecurity       object\n",
       "OnlineBackup         object\n",
       "DeviceProtection     object\n",
       "TechSupport          object\n",
       "StreamingTV          object\n",
       "StreamingMovies      object\n",
       "Contract             object\n",
       "PaperlessBilling     object\n",
       "PaymentMethod        object\n",
       "MonthlyCharges      float64\n",
       "TotalCharges         object\n",
       "Churn                object\n",
       "dtype: object"
      ]
     },
     "execution_count": 47,
     "metadata": {},
     "output_type": "execute_result"
    }
   ],
   "source": [
    "df.dtypes"
   ]
  },
  {
   "cell_type": "code",
   "execution_count": 48,
   "metadata": {},
   "outputs": [],
   "source": [
    "X = df.drop(columns=[\"Churn\"], axis=1)\n",
    "Y = df[\"Churn\"]"
   ]
  },
  {
   "cell_type": "code",
   "execution_count": 49,
   "metadata": {},
   "outputs": [
    {
     "data": {
      "text/plain": [
       "(7043, 19)"
      ]
     },
     "execution_count": 49,
     "metadata": {},
     "output_type": "execute_result"
    }
   ],
   "source": [
    "X.shape"
   ]
  },
  {
   "cell_type": "code",
   "execution_count": 50,
   "metadata": {},
   "outputs": [
    {
     "name": "stdout",
     "output_type": "stream",
     "text": [
      "   gender  SeniorCitizen  Partner  Dependents  tenure  PhoneService  \\\n",
      "0       0              0        1           0       1             0   \n",
      "1       1              0        0           0      34             1   \n",
      "2       1              0        0           0       2             1   \n",
      "3       1              0        0           0      45             0   \n",
      "4       0              0        0           0       2             1   \n",
      "\n",
      "   PaperlessBilling  MonthlyCharges  DeviceProtection_No internet service  \\\n",
      "0                 1              29                                     0   \n",
      "1                 0              56                                     0   \n",
      "2                 1              53                                     0   \n",
      "3                 0              42                                     0   \n",
      "4                 1              70                                     0   \n",
      "\n",
      "   DeviceProtection_Yes  ...  OnlineSecurity_Yes  \\\n",
      "0                     0  ...                   0   \n",
      "1                     1  ...                   1   \n",
      "2                     0  ...                   1   \n",
      "3                     1  ...                   1   \n",
      "4                     0  ...                   0   \n",
      "\n",
      "   StreamingMovies_No internet service  StreamingMovies_Yes  \\\n",
      "0                                    0                    0   \n",
      "1                                    0                    0   \n",
      "2                                    0                    0   \n",
      "3                                    0                    0   \n",
      "4                                    0                    0   \n",
      "\n",
      "   PaymentMethod_Credit card (automatic)  PaymentMethod_Electronic check  \\\n",
      "0                                      0                               1   \n",
      "1                                      0                               0   \n",
      "2                                      0                               0   \n",
      "3                                      0                               0   \n",
      "4                                      0                               1   \n",
      "\n",
      "   PaymentMethod_Mailed check  Contract_One year  Contract_Two year  \\\n",
      "0                           0                  0                  0   \n",
      "1                           1                  1                  0   \n",
      "2                           1                  0                  0   \n",
      "3                           0                  1                  0   \n",
      "4                           0                  0                  0   \n",
      "\n",
      "   TechSupport_No internet service  TechSupport_Yes  \n",
      "0                                0                0  \n",
      "1                                0                0  \n",
      "2                                0                0  \n",
      "3                                0                1  \n",
      "4                                0                0  \n",
      "\n",
      "[5 rows x 6559 columns]\n"
     ]
    }
   ],
   "source": [
    "import pandas as pd\n",
    "from sklearn.preprocessing import LabelEncoder\n",
    "\n",
    "label_encoder = LabelEncoder()\n",
    "\n",
    "text_columns = set()\n",
    "\n",
    "for column in X.columns:\n",
    "    if X[column].dtype == 'object':\n",
    "        if X[column].nunique() <= 2:  # Binary Categories → Label Encoding\n",
    "            X.loc[:, column] = label_encoder.fit_transform(X[column])\n",
    "        else:  # More than 2 Unique Categories → One-Hot Encoding\n",
    "            text_columns.add(column)\n",
    "\n",
    "# One-Hot Encoding for categorical columns with more than 2 unique values\n",
    "X_encoded = pd.get_dummies(X, columns=list(text_columns), drop_first=True).astype(int)\n",
    "\n",
    "print(X_encoded.head())\n",
    "\n"
   ]
  },
  {
   "cell_type": "code",
   "execution_count": 51,
   "metadata": {},
   "outputs": [
    {
     "data": {
      "text/plain": [
       "(7043, 6559)"
      ]
     },
     "execution_count": 51,
     "metadata": {},
     "output_type": "execute_result"
    }
   ],
   "source": [
    "X_encoded.shape"
   ]
  },
  {
   "cell_type": "code",
   "execution_count": 57,
   "metadata": {},
   "outputs": [
    {
     "data": {
      "image/png": "[encoded data removed]",
      "text/plain": [
       "<Figure size 800x500 with 1 Axes>"
      ]
     },
     "metadata": {},
     "output_type": "display_data"
    }
   ],
   "source": [
    "from sklearn.decomposition import PCA\n",
    "import matplotlib.pyplot as plt\n",
    "pca = PCA(n_components=50)  # Keep 50 principal components\n",
    "X_pca = pca.fit_transform(X_encoded)\n",
    "\n",
    "# Explained Variance Ratio\n",
    "explained_variance = np.cumsum(pca.explained_variance_ratio_)\n",
    "\n",
    "# Plot Cumulative Variance\n",
    "plt.figure(figsize=(8, 5))\n",
    "plt.plot(range(1, len(explained_variance) + 1), explained_variance, marker='o', linestyle='--')\n",
    "plt.xlabel(\"Number of Components\")\n",
    "plt.ylabel(\"Cumulative Explained Variance\")\n",
    "plt.title(\"PCA Explained Variance\")\n",
    "plt.grid()\n",
    "plt.show()"
   ]
  },
  {
   "cell_type": "code",
   "execution_count": 59,
   "metadata": {},
   "outputs": [
    {
     "name": "stdout",
     "output_type": "stream",
     "text": [
      "Reduced shape: (7043, 50)\n"
     ]
    }
   ],
   "source": [
    "print(f\"Reduced shape: {X_pca.shape}\")  # New dataset with fewer features\n"
   ]
  },
  {
   "cell_type": "code",
   "execution_count": 62,
   "metadata": {},
   "outputs": [
    {
     "data": {
      "text/plain": [
       "Index(['PC1', 'PC2', 'PC3', 'PC4', 'PC5', 'PC6', 'PC7', 'PC8', 'PC9', 'PC10',\n",
       "       'PC11', 'PC12', 'PC13', 'PC14', 'PC15', 'PC16', 'PC17', 'PC18', 'PC19',\n",
       "       'PC20', 'PC21', 'PC22', 'PC23', 'PC24', 'PC25', 'PC26', 'PC27', 'PC28',\n",
       "       'PC29', 'PC30', 'PC31', 'PC32', 'PC33', 'PC34', 'PC35', 'PC36', 'PC37',\n",
       "       'PC38', 'PC39', 'PC40', 'PC41', 'PC42', 'PC43', 'PC44', 'PC45', 'PC46',\n",
       "       'PC47', 'PC48', 'PC49', 'PC50'],\n",
       "      dtype='object')"
      ]
     },
     "execution_count": 62,
     "metadata": {},
     "output_type": "execute_result"
    }
   ],
   "source": [
    "X_pca_df = pd.DataFrame(X_pca, columns=[f\"PC{i+1}\" for i in range(X_pca.shape[1])])\n",
    "X_pca_df.columns"
   ]
  },
  {
   "cell_type": "code",
   "execution_count": 63,
   "metadata": {},
   "outputs": [
    {
     "data": {
      "text/plain": [
       "0    0\n",
       "1    0\n",
       "2    1\n",
       "3    0\n",
       "4    1\n",
       "Name: Churn, dtype: int64"
      ]
     },
     "execution_count": 63,
     "metadata": {},
     "output_type": "execute_result"
    }
   ],
   "source": [
    "Y_encoded = Y.map({'Yes':1, 'No':0})\n",
    "Y_encoded.head()"
   ]
  },
  {
   "cell_type": "code",
   "execution_count": 64,
   "metadata": {},
   "outputs": [],
   "source": [
    "df_encoded = pd.concat([X_pca_df, Y_encoded], axis=1)"
   ]
  },
  {
   "cell_type": "code",
   "execution_count": 65,
   "metadata": {},
   "outputs": [
    {
     "data": {
      "text/html": [
       "<div>\n",
       "<style scoped>\n",
       "    .dataframe tbody tr th:only-of-type {\n",
       "        vertical-align: middle;\n",
       "    }\n",
       "\n",
       "    .dataframe tbody tr th {\n",
       "        vertical-align: top;\n",
       "    }\n",
       "\n",
       "    .dataframe thead th {\n",
       "        text-align: right;\n",
       "    }\n",
       "</style>\n",
       "<table border=\"1\" class=\"dataframe\">\n",
       "  <thead>\n",
       "    <tr style=\"text-align: right;\">\n",
       "      <th></th>\n",
       "      <th>PC1</th>\n",
       "      <th>PC2</th>\n",
       "      <th>PC3</th>\n",
       "      <th>PC4</th>\n",
       "      <th>PC5</th>\n",
       "      <th>PC6</th>\n",
       "      <th>PC7</th>\n",
       "      <th>PC8</th>\n",
       "      <th>PC9</th>\n",
       "      <th>PC10</th>\n",
       "      <th>...</th>\n",
       "      <th>PC42</th>\n",
       "      <th>PC43</th>\n",
       "      <th>PC44</th>\n",
       "      <th>PC45</th>\n",
       "      <th>PC46</th>\n",
       "      <th>PC47</th>\n",
       "      <th>PC48</th>\n",
       "      <th>PC49</th>\n",
       "      <th>PC50</th>\n",
       "      <th>Churn</th>\n",
       "    </tr>\n",
       "  </thead>\n",
       "  <tbody>\n",
       "    <tr>\n",
       "      <th>0</th>\n",
       "      <td>-45.269219</td>\n",
       "      <td>-13.384020</td>\n",
       "      <td>-1.756204</td>\n",
       "      <td>0.617221</td>\n",
       "      <td>0.934052</td>\n",
       "      <td>-0.627395</td>\n",
       "      <td>0.195405</td>\n",
       "      <td>-0.142792</td>\n",
       "      <td>0.142101</td>\n",
       "      <td>0.147159</td>\n",
       "      <td>...</td>\n",
       "      <td>0.000962</td>\n",
       "      <td>0.000116</td>\n",
       "      <td>-0.000749</td>\n",
       "      <td>0.001187</td>\n",
       "      <td>0.000319</td>\n",
       "      <td>-0.000333</td>\n",
       "      <td>-0.000663</td>\n",
       "      <td>-0.000350</td>\n",
       "      <td>-0.000541</td>\n",
       "      <td>0</td>\n",
       "    </tr>\n",
       "    <tr>\n",
       "      <th>1</th>\n",
       "      <td>-6.815462</td>\n",
       "      <td>4.996457</td>\n",
       "      <td>-0.871265</td>\n",
       "      <td>-0.269470</td>\n",
       "      <td>-0.853653</td>\n",
       "      <td>0.637841</td>\n",
       "      <td>-0.356288</td>\n",
       "      <td>0.870018</td>\n",
       "      <td>-0.636275</td>\n",
       "      <td>0.053584</td>\n",
       "      <td>...</td>\n",
       "      <td>0.000206</td>\n",
       "      <td>-0.001440</td>\n",
       "      <td>-0.000816</td>\n",
       "      <td>-0.001367</td>\n",
       "      <td>-0.001939</td>\n",
       "      <td>0.001700</td>\n",
       "      <td>-0.001479</td>\n",
       "      <td>0.003686</td>\n",
       "      <td>-0.000638</td>\n",
       "      <td>0</td>\n",
       "    </tr>\n",
       "    <tr>\n",
       "      <th>2</th>\n",
       "      <td>-23.143484</td>\n",
       "      <td>-22.684441</td>\n",
       "      <td>-0.887393</td>\n",
       "      <td>-0.293347</td>\n",
       "      <td>-0.543394</td>\n",
       "      <td>0.486409</td>\n",
       "      <td>-0.600916</td>\n",
       "      <td>-0.004873</td>\n",
       "      <td>-0.006578</td>\n",
       "      <td>0.952810</td>\n",
       "      <td>...</td>\n",
       "      <td>0.001264</td>\n",
       "      <td>-0.000249</td>\n",
       "      <td>-0.001116</td>\n",
       "      <td>-0.000532</td>\n",
       "      <td>0.001825</td>\n",
       "      <td>-0.003016</td>\n",
       "      <td>-0.001880</td>\n",
       "      <td>0.003057</td>\n",
       "      <td>-0.000800</td>\n",
       "      <td>1</td>\n",
       "    </tr>\n",
       "    <tr>\n",
       "      <th>3</th>\n",
       "      <td>-14.786622</td>\n",
       "      <td>20.907038</td>\n",
       "      <td>-1.964992</td>\n",
       "      <td>0.081266</td>\n",
       "      <td>-0.690859</td>\n",
       "      <td>0.565864</td>\n",
       "      <td>0.157586</td>\n",
       "      <td>0.645466</td>\n",
       "      <td>-0.362312</td>\n",
       "      <td>-0.423577</td>\n",
       "      <td>...</td>\n",
       "      <td>-0.000700</td>\n",
       "      <td>-0.001264</td>\n",
       "      <td>0.000848</td>\n",
       "      <td>0.001178</td>\n",
       "      <td>-0.002828</td>\n",
       "      <td>0.003092</td>\n",
       "      <td>0.000170</td>\n",
       "      <td>-0.000011</td>\n",
       "      <td>0.000675</td>\n",
       "      <td>0</td>\n",
       "    </tr>\n",
       "    <tr>\n",
       "      <th>4</th>\n",
       "      <td>-7.765002</td>\n",
       "      <td>-29.934988</td>\n",
       "      <td>-0.011029</td>\n",
       "      <td>0.750901</td>\n",
       "      <td>0.108908</td>\n",
       "      <td>-0.519075</td>\n",
       "      <td>-0.266135</td>\n",
       "      <td>-0.115131</td>\n",
       "      <td>-0.080343</td>\n",
       "      <td>0.009241</td>\n",
       "      <td>...</td>\n",
       "      <td>-0.000675</td>\n",
       "      <td>0.000730</td>\n",
       "      <td>-0.000875</td>\n",
       "      <td>0.000157</td>\n",
       "      <td>-0.001393</td>\n",
       "      <td>0.001521</td>\n",
       "      <td>-0.002796</td>\n",
       "      <td>0.002107</td>\n",
       "      <td>-0.005623</td>\n",
       "      <td>1</td>\n",
       "    </tr>\n",
       "  </tbody>\n",
       "</table>\n",
       "<p>5 rows × 51 columns</p>\n",
       "</div>"
      ],
      "text/plain": [
       "         PC1        PC2       PC3       PC4       PC5       PC6       PC7  \\\n",
       "0 -45.269219 -13.384020 -1.756204  0.617221  0.934052 -0.627395  0.195405   \n",
       "1  -6.815462   4.996457 -0.871265 -0.269470 -0.853653  0.637841 -0.356288   \n",
       "2 -23.143484 -22.684441 -0.887393 -0.293347 -0.543394  0.486409 -0.600916   \n",
       "3 -14.786622  20.907038 -1.964992  0.081266 -0.690859  0.565864  0.157586   \n",
       "4  -7.765002 -29.934988 -0.011029  0.750901  0.108908 -0.519075 -0.266135   \n",
       "\n",
       "        PC8       PC9      PC10  ...      PC42      PC43      PC44      PC45  \\\n",
       "0 -0.142792  0.142101  0.147159  ...  0.000962  0.000116 -0.000749  0.001187   \n",
       "1  0.870018 -0.636275  0.053584  ...  0.000206 -0.001440 -0.000816 -0.001367   \n",
       "2 -0.004873 -0.006578  0.952810  ...  0.001264 -0.000249 -0.001116 -0.000532   \n",
       "3  0.645466 -0.362312 -0.423577  ... -0.000700 -0.001264  0.000848  0.001178   \n",
       "4 -0.115131 -0.080343  0.009241  ... -0.000675  0.000730 -0.000875  0.000157   \n",
       "\n",
       "       PC46      PC47      PC48      PC49      PC50  Churn  \n",
       "0  0.000319 -0.000333 -0.000663 -0.000350 -0.000541      0  \n",
       "1 -0.001939  0.001700 -0.001479  0.003686 -0.000638      0  \n",
       "2  0.001825 -0.003016 -0.001880  0.003057 -0.000800      1  \n",
       "3 -0.002828  0.003092  0.000170 -0.000011  0.000675      0  \n",
       "4 -0.001393  0.001521 -0.002796  0.002107 -0.005623      1  \n",
       "\n",
       "[5 rows x 51 columns]"
      ]
     },
     "execution_count": 65,
     "metadata": {},
     "output_type": "execute_result"
    }
   ],
   "source": [
    "df_encoded.head()"
   ]
  },
  {
   "cell_type": "code",
   "execution_count": 66,
   "metadata": {},
   "outputs": [
    {
     "data": {
      "text/plain": [
       "Churn\n",
       "0    5174\n",
       "1    1869\n",
       "Name: count, dtype: int64"
      ]
     },
     "execution_count": 66,
     "metadata": {},
     "output_type": "execute_result"
    }
   ],
   "source": [
    "# 1.CHECK IMBALANCE DATA\n",
    "\n",
    "df_encoded['Churn'].value_counts()\n"
   ]
  },
  {
   "cell_type": "code",
   "execution_count": 67,
   "metadata": {},
   "outputs": [],
   "source": [
    "X = df_encoded.drop(columns=[\"Churn\"], axis=1)\n",
    "\n",
    "Y = df_encoded[\"Churn\"]"
   ]
  },
  {
   "cell_type": "code",
   "execution_count": 68,
   "metadata": {},
   "outputs": [
    {
     "data": {
      "text/html": [
       "<div>\n",
       "<style scoped>\n",
       "    .dataframe tbody tr th:only-of-type {\n",
       "        vertical-align: middle;\n",
       "    }\n",
       "\n",
       "    .dataframe tbody tr th {\n",
       "        vertical-align: top;\n",
       "    }\n",
       "\n",
       "    .dataframe thead th {\n",
       "        text-align: right;\n",
       "    }\n",
       "</style>\n",
       "<table border=\"1\" class=\"dataframe\">\n",
       "  <thead>\n",
       "    <tr style=\"text-align: right;\">\n",
       "      <th></th>\n",
       "      <th>PC1</th>\n",
       "      <th>PC2</th>\n",
       "      <th>PC3</th>\n",
       "      <th>PC4</th>\n",
       "      <th>PC5</th>\n",
       "      <th>PC6</th>\n",
       "      <th>PC7</th>\n",
       "      <th>PC8</th>\n",
       "      <th>PC9</th>\n",
       "      <th>PC10</th>\n",
       "      <th>...</th>\n",
       "      <th>PC41</th>\n",
       "      <th>PC42</th>\n",
       "      <th>PC43</th>\n",
       "      <th>PC44</th>\n",
       "      <th>PC45</th>\n",
       "      <th>PC46</th>\n",
       "      <th>PC47</th>\n",
       "      <th>PC48</th>\n",
       "      <th>PC49</th>\n",
       "      <th>PC50</th>\n",
       "    </tr>\n",
       "  </thead>\n",
       "  <tbody>\n",
       "    <tr>\n",
       "      <th>0</th>\n",
       "      <td>-45.269219</td>\n",
       "      <td>-13.384020</td>\n",
       "      <td>-1.756204</td>\n",
       "      <td>0.617221</td>\n",
       "      <td>0.934052</td>\n",
       "      <td>-0.627395</td>\n",
       "      <td>0.195405</td>\n",
       "      <td>-0.142792</td>\n",
       "      <td>0.142101</td>\n",
       "      <td>0.147159</td>\n",
       "      <td>...</td>\n",
       "      <td>-0.000181</td>\n",
       "      <td>0.000962</td>\n",
       "      <td>0.000116</td>\n",
       "      <td>-0.000749</td>\n",
       "      <td>0.001187</td>\n",
       "      <td>0.000319</td>\n",
       "      <td>-0.000333</td>\n",
       "      <td>-0.000663</td>\n",
       "      <td>-0.000350</td>\n",
       "      <td>-0.000541</td>\n",
       "    </tr>\n",
       "    <tr>\n",
       "      <th>1</th>\n",
       "      <td>-6.815462</td>\n",
       "      <td>4.996457</td>\n",
       "      <td>-0.871265</td>\n",
       "      <td>-0.269470</td>\n",
       "      <td>-0.853653</td>\n",
       "      <td>0.637841</td>\n",
       "      <td>-0.356288</td>\n",
       "      <td>0.870018</td>\n",
       "      <td>-0.636275</td>\n",
       "      <td>0.053584</td>\n",
       "      <td>...</td>\n",
       "      <td>-0.002895</td>\n",
       "      <td>0.000206</td>\n",
       "      <td>-0.001440</td>\n",
       "      <td>-0.000816</td>\n",
       "      <td>-0.001367</td>\n",
       "      <td>-0.001939</td>\n",
       "      <td>0.001700</td>\n",
       "      <td>-0.001479</td>\n",
       "      <td>0.003686</td>\n",
       "      <td>-0.000638</td>\n",
       "    </tr>\n",
       "    <tr>\n",
       "      <th>2</th>\n",
       "      <td>-23.143484</td>\n",
       "      <td>-22.684441</td>\n",
       "      <td>-0.887393</td>\n",
       "      <td>-0.293347</td>\n",
       "      <td>-0.543394</td>\n",
       "      <td>0.486409</td>\n",
       "      <td>-0.600916</td>\n",
       "      <td>-0.004873</td>\n",
       "      <td>-0.006578</td>\n",
       "      <td>0.952810</td>\n",
       "      <td>...</td>\n",
       "      <td>-0.000950</td>\n",
       "      <td>0.001264</td>\n",
       "      <td>-0.000249</td>\n",
       "      <td>-0.001116</td>\n",
       "      <td>-0.000532</td>\n",
       "      <td>0.001825</td>\n",
       "      <td>-0.003016</td>\n",
       "      <td>-0.001880</td>\n",
       "      <td>0.003057</td>\n",
       "      <td>-0.000800</td>\n",
       "    </tr>\n",
       "    <tr>\n",
       "      <th>3</th>\n",
       "      <td>-14.786622</td>\n",
       "      <td>20.907038</td>\n",
       "      <td>-1.964992</td>\n",
       "      <td>0.081266</td>\n",
       "      <td>-0.690859</td>\n",
       "      <td>0.565864</td>\n",
       "      <td>0.157586</td>\n",
       "      <td>0.645466</td>\n",
       "      <td>-0.362312</td>\n",
       "      <td>-0.423577</td>\n",
       "      <td>...</td>\n",
       "      <td>-0.002205</td>\n",
       "      <td>-0.000700</td>\n",
       "      <td>-0.001264</td>\n",
       "      <td>0.000848</td>\n",
       "      <td>0.001178</td>\n",
       "      <td>-0.002828</td>\n",
       "      <td>0.003092</td>\n",
       "      <td>0.000170</td>\n",
       "      <td>-0.000011</td>\n",
       "      <td>0.000675</td>\n",
       "    </tr>\n",
       "    <tr>\n",
       "      <th>4</th>\n",
       "      <td>-7.765002</td>\n",
       "      <td>-29.934988</td>\n",
       "      <td>-0.011029</td>\n",
       "      <td>0.750901</td>\n",
       "      <td>0.108908</td>\n",
       "      <td>-0.519075</td>\n",
       "      <td>-0.266135</td>\n",
       "      <td>-0.115131</td>\n",
       "      <td>-0.080343</td>\n",
       "      <td>0.009241</td>\n",
       "      <td>...</td>\n",
       "      <td>-0.000840</td>\n",
       "      <td>-0.000675</td>\n",
       "      <td>0.000730</td>\n",
       "      <td>-0.000875</td>\n",
       "      <td>0.000157</td>\n",
       "      <td>-0.001393</td>\n",
       "      <td>0.001521</td>\n",
       "      <td>-0.002796</td>\n",
       "      <td>0.002107</td>\n",
       "      <td>-0.005623</td>\n",
       "    </tr>\n",
       "  </tbody>\n",
       "</table>\n",
       "<p>5 rows × 50 columns</p>\n",
       "</div>"
      ],
      "text/plain": [
       "         PC1        PC2       PC3       PC4       PC5       PC6       PC7  \\\n",
       "0 -45.269219 -13.384020 -1.756204  0.617221  0.934052 -0.627395  0.195405   \n",
       "1  -6.815462   4.996457 -0.871265 -0.269470 -0.853653  0.637841 -0.356288   \n",
       "2 -23.143484 -22.684441 -0.887393 -0.293347 -0.543394  0.486409 -0.600916   \n",
       "3 -14.786622  20.907038 -1.964992  0.081266 -0.690859  0.565864  0.157586   \n",
       "4  -7.765002 -29.934988 -0.011029  0.750901  0.108908 -0.519075 -0.266135   \n",
       "\n",
       "        PC8       PC9      PC10  ...      PC41      PC42      PC43      PC44  \\\n",
       "0 -0.142792  0.142101  0.147159  ... -0.000181  0.000962  0.000116 -0.000749   \n",
       "1  0.870018 -0.636275  0.053584  ... -0.002895  0.000206 -0.001440 -0.000816   \n",
       "2 -0.004873 -0.006578  0.952810  ... -0.000950  0.001264 -0.000249 -0.001116   \n",
       "3  0.645466 -0.362312 -0.423577  ... -0.002205 -0.000700 -0.001264  0.000848   \n",
       "4 -0.115131 -0.080343  0.009241  ... -0.000840 -0.000675  0.000730 -0.000875   \n",
       "\n",
       "       PC45      PC46      PC47      PC48      PC49      PC50  \n",
       "0  0.001187  0.000319 -0.000333 -0.000663 -0.000350 -0.000541  \n",
       "1 -0.001367 -0.001939  0.001700 -0.001479  0.003686 -0.000638  \n",
       "2 -0.000532  0.001825 -0.003016 -0.001880  0.003057 -0.000800  \n",
       "3  0.001178 -0.002828  0.003092  0.000170 -0.000011  0.000675  \n",
       "4  0.000157 -0.001393  0.001521 -0.002796  0.002107 -0.005623  \n",
       "\n",
       "[5 rows x 50 columns]"
      ]
     },
     "execution_count": 68,
     "metadata": {},
     "output_type": "execute_result"
    }
   ],
   "source": [
    "X.head()"
   ]
  },
  {
   "cell_type": "code",
   "execution_count": 69,
   "metadata": {},
   "outputs": [
    {
     "name": "stdout",
     "output_type": "stream",
     "text": [
      "Class distribution after SMOTE: Counter({0: 5174, 1: 5174})\n"
     ]
    }
   ],
   "source": [
    "from imblearn.over_sampling import SMOTE\n",
    "from collections import Counter\n",
    "\n",
    "smote = SMOTE(random_state=42)\n",
    "\n",
    "X_resampled, Y_resampled = smote.fit_resample(X, Y)\n",
    "\n",
    "print(\"Class distribution after SMOTE:\", Counter(Y_resampled))\n"
   ]
  },
  {
   "cell_type": "code",
   "execution_count": 70,
   "metadata": {},
   "outputs": [
    {
     "data": {
      "text/plain": [
       "((10348, 50), (10348,))"
      ]
     },
     "execution_count": 70,
     "metadata": {},
     "output_type": "execute_result"
    }
   ],
   "source": [
    "X_resampled.shape, Y_resampled.shape"
   ]
  },
  {
   "cell_type": "code",
   "execution_count": 71,
   "metadata": {},
   "outputs": [
    {
     "data": {
      "text/plain": [
       "Index(['PC1', 'PC2', 'PC3', 'PC4', 'PC5', 'PC6', 'PC7', 'PC8', 'PC9', 'PC10',\n",
       "       'PC11', 'PC12', 'PC13', 'PC14', 'PC15', 'PC16', 'PC17', 'PC18', 'PC19',\n",
       "       'PC20', 'PC21', 'PC22', 'PC23', 'PC24', 'PC25', 'PC26', 'PC27', 'PC28',\n",
       "       'PC29', 'PC30', 'PC31', 'PC32', 'PC33', 'PC34', 'PC35', 'PC36', 'PC37',\n",
       "       'PC38', 'PC39', 'PC40', 'PC41', 'PC42', 'PC43', 'PC44', 'PC45', 'PC46',\n",
       "       'PC47', 'PC48', 'PC49', 'PC50'],\n",
       "      dtype='object')"
      ]
     },
     "execution_count": 71,
     "metadata": {},
     "output_type": "execute_result"
    }
   ],
   "source": [
    "from sklearn.preprocessing import StandardScaler\n",
    "\n",
    "standard_scaler = StandardScaler()\n",
    "\n",
    "X_scaled = standard_scaler.fit_transform(X_resampled)\n",
    "\n",
    "X_scaled_df = pd.DataFrame(X_scaled,columns=X_resampled.columns)\n",
    "\n",
    "X_scaled_df.columns\n"
   ]
  },
  {
   "cell_type": "code",
   "execution_count": 72,
   "metadata": {},
   "outputs": [
    {
     "data": {
      "text/plain": [
       "((10348, 50), (10348,))"
      ]
     },
     "execution_count": 72,
     "metadata": {},
     "output_type": "execute_result"
    }
   ],
   "source": [
    "X_scaled_df.shape, Y_resampled.shape"
   ]
  },
  {
   "cell_type": "code",
   "execution_count": 73,
   "metadata": {},
   "outputs": [
    {
     "data": {
      "text/html": [
       "<div>\n",
       "<style scoped>\n",
       "    .dataframe tbody tr th:only-of-type {\n",
       "        vertical-align: middle;\n",
       "    }\n",
       "\n",
       "    .dataframe tbody tr th {\n",
       "        vertical-align: top;\n",
       "    }\n",
       "\n",
       "    .dataframe thead th {\n",
       "        text-align: right;\n",
       "    }\n",
       "</style>\n",
       "<table border=\"1\" class=\"dataframe\">\n",
       "  <thead>\n",
       "    <tr style=\"text-align: right;\">\n",
       "      <th></th>\n",
       "      <th>PC1</th>\n",
       "      <th>PC2</th>\n",
       "      <th>PC3</th>\n",
       "      <th>PC4</th>\n",
       "      <th>PC5</th>\n",
       "      <th>PC6</th>\n",
       "      <th>PC7</th>\n",
       "      <th>PC8</th>\n",
       "      <th>PC9</th>\n",
       "      <th>PC10</th>\n",
       "      <th>...</th>\n",
       "      <th>PC41</th>\n",
       "      <th>PC42</th>\n",
       "      <th>PC43</th>\n",
       "      <th>PC44</th>\n",
       "      <th>PC45</th>\n",
       "      <th>PC46</th>\n",
       "      <th>PC47</th>\n",
       "      <th>PC48</th>\n",
       "      <th>PC49</th>\n",
       "      <th>PC50</th>\n",
       "    </tr>\n",
       "  </thead>\n",
       "  <tbody>\n",
       "    <tr>\n",
       "      <th>0</th>\n",
       "      <td>-1.543054</td>\n",
       "      <td>-0.351040</td>\n",
       "      <td>-2.349083</td>\n",
       "      <td>0.922245</td>\n",
       "      <td>1.812323</td>\n",
       "      <td>-1.299009</td>\n",
       "      <td>0.402664</td>\n",
       "      <td>-0.311684</td>\n",
       "      <td>0.340490</td>\n",
       "      <td>0.365845</td>\n",
       "      <td>...</td>\n",
       "      <td>-0.011485</td>\n",
       "      <td>0.036450</td>\n",
       "      <td>0.009046</td>\n",
       "      <td>-0.029296</td>\n",
       "      <td>0.033183</td>\n",
       "      <td>0.009891</td>\n",
       "      <td>0.001188</td>\n",
       "      <td>-0.015412</td>\n",
       "      <td>-0.020720</td>\n",
       "      <td>-0.020184</td>\n",
       "    </tr>\n",
       "    <tr>\n",
       "      <th>1</th>\n",
       "      <td>-0.262284</td>\n",
       "      <td>0.469452</td>\n",
       "      <td>-1.175012</td>\n",
       "      <td>-0.620178</td>\n",
       "      <td>-1.765332</td>\n",
       "      <td>1.339414</td>\n",
       "      <td>-0.752589</td>\n",
       "      <td>2.184293</td>\n",
       "      <td>-1.520510</td>\n",
       "      <td>0.132280</td>\n",
       "      <td>...</td>\n",
       "      <td>-0.128734</td>\n",
       "      <td>0.005709</td>\n",
       "      <td>-0.055363</td>\n",
       "      <td>-0.032090</td>\n",
       "      <td>-0.065161</td>\n",
       "      <td>-0.084384</td>\n",
       "      <td>0.092278</td>\n",
       "      <td>-0.051706</td>\n",
       "      <td>0.162222</td>\n",
       "      <td>-0.024231</td>\n",
       "    </tr>\n",
       "    <tr>\n",
       "      <th>2</th>\n",
       "      <td>-0.806118</td>\n",
       "      <td>-0.766205</td>\n",
       "      <td>-1.196409</td>\n",
       "      <td>-0.661712</td>\n",
       "      <td>-1.144423</td>\n",
       "      <td>1.023630</td>\n",
       "      <td>-1.264844</td>\n",
       "      <td>0.028206</td>\n",
       "      <td>-0.014984</td>\n",
       "      <td>2.376745</td>\n",
       "      <td>...</td>\n",
       "      <td>-0.044721</td>\n",
       "      <td>0.048725</td>\n",
       "      <td>-0.006063</td>\n",
       "      <td>-0.044698</td>\n",
       "      <td>-0.032994</td>\n",
       "      <td>0.072767</td>\n",
       "      <td>-0.119020</td>\n",
       "      <td>-0.069531</td>\n",
       "      <td>0.133735</td>\n",
       "      <td>-0.031042</td>\n",
       "    </tr>\n",
       "    <tr>\n",
       "      <th>3</th>\n",
       "      <td>-0.527778</td>\n",
       "      <td>1.179690</td>\n",
       "      <td>-2.626086</td>\n",
       "      <td>-0.010062</td>\n",
       "      <td>-1.439540</td>\n",
       "      <td>1.189319</td>\n",
       "      <td>0.323471</td>\n",
       "      <td>1.630906</td>\n",
       "      <td>-0.865499</td>\n",
       "      <td>-1.058711</td>\n",
       "      <td>...</td>\n",
       "      <td>-0.098917</td>\n",
       "      <td>-0.031150</td>\n",
       "      <td>-0.048058</td>\n",
       "      <td>0.037825</td>\n",
       "      <td>0.032826</td>\n",
       "      <td>-0.121498</td>\n",
       "      <td>0.154628</td>\n",
       "      <td>0.021602</td>\n",
       "      <td>-0.005369</td>\n",
       "      <td>0.030793</td>\n",
       "    </tr>\n",
       "    <tr>\n",
       "      <th>4</th>\n",
       "      <td>-0.293911</td>\n",
       "      <td>-1.089864</td>\n",
       "      <td>-0.033716</td>\n",
       "      <td>1.154786</td>\n",
       "      <td>0.160998</td>\n",
       "      <td>-1.073128</td>\n",
       "      <td>-0.563806</td>\n",
       "      <td>-0.243514</td>\n",
       "      <td>-0.191346</td>\n",
       "      <td>0.021600</td>\n",
       "      <td>...</td>\n",
       "      <td>-0.039948</td>\n",
       "      <td>-0.030153</td>\n",
       "      <td>0.034475</td>\n",
       "      <td>-0.034592</td>\n",
       "      <td>-0.006472</td>\n",
       "      <td>-0.061621</td>\n",
       "      <td>0.084270</td>\n",
       "      <td>-0.110246</td>\n",
       "      <td>0.090633</td>\n",
       "      <td>-0.233146</td>\n",
       "    </tr>\n",
       "  </tbody>\n",
       "</table>\n",
       "<p>5 rows × 50 columns</p>\n",
       "</div>"
      ],
      "text/plain": [
       "        PC1       PC2       PC3       PC4       PC5       PC6       PC7  \\\n",
       "0 -1.543054 -0.351040 -2.349083  0.922245  1.812323 -1.299009  0.402664   \n",
       "1 -0.262284  0.469452 -1.175012 -0.620178 -1.765332  1.339414 -0.752589   \n",
       "2 -0.806118 -0.766205 -1.196409 -0.661712 -1.144423  1.023630 -1.264844   \n",
       "3 -0.527778  1.179690 -2.626086 -0.010062 -1.439540  1.189319  0.323471   \n",
       "4 -0.293911 -1.089864 -0.033716  1.154786  0.160998 -1.073128 -0.563806   \n",
       "\n",
       "        PC8       PC9      PC10  ...      PC41      PC42      PC43      PC44  \\\n",
       "0 -0.311684  0.340490  0.365845  ... -0.011485  0.036450  0.009046 -0.029296   \n",
       "1  2.184293 -1.520510  0.132280  ... -0.128734  0.005709 -0.055363 -0.032090   \n",
       "2  0.028206 -0.014984  2.376745  ... -0.044721  0.048725 -0.006063 -0.044698   \n",
       "3  1.630906 -0.865499 -1.058711  ... -0.098917 -0.031150 -0.048058  0.037825   \n",
       "4 -0.243514 -0.191346  0.021600  ... -0.039948 -0.030153  0.034475 -0.034592   \n",
       "\n",
       "       PC45      PC46      PC47      PC48      PC49      PC50  \n",
       "0  0.033183  0.009891  0.001188 -0.015412 -0.020720 -0.020184  \n",
       "1 -0.065161 -0.084384  0.092278 -0.051706  0.162222 -0.024231  \n",
       "2 -0.032994  0.072767 -0.119020 -0.069531  0.133735 -0.031042  \n",
       "3  0.032826 -0.121498  0.154628  0.021602 -0.005369  0.030793  \n",
       "4 -0.006472 -0.061621  0.084270 -0.110246  0.090633 -0.233146  \n",
       "\n",
       "[5 rows x 50 columns]"
      ]
     },
     "execution_count": 73,
     "metadata": {},
     "output_type": "execute_result"
    }
   ],
   "source": [
    "X_scaled_df.head()"
   ]
  },
  {
   "cell_type": "code",
   "execution_count": 74,
   "metadata": {},
   "outputs": [
    {
     "data": {
      "text/plain": [
       "Index(['PC1', 'PC2', 'PC3', 'PC4', 'PC5', 'PC6', 'PC7', 'PC8', 'PC9', 'PC10',\n",
       "       'PC11', 'PC12', 'PC13', 'PC14', 'PC15', 'PC16', 'PC17', 'PC18', 'PC19',\n",
       "       'PC20', 'PC21', 'PC22', 'PC23', 'PC24', 'PC25', 'PC26', 'PC27', 'PC28',\n",
       "       'PC29', 'PC30', 'PC31', 'PC32', 'PC33', 'PC34', 'PC35', 'PC36', 'PC37',\n",
       "       'PC38', 'PC39', 'PC40', 'PC41', 'PC42', 'PC43', 'PC44', 'PC45', 'PC46',\n",
       "       'PC47', 'PC48', 'PC49', 'PC50'],\n",
       "      dtype='object')"
      ]
     },
     "execution_count": 74,
     "metadata": {},
     "output_type": "execute_result"
    }
   ],
   "source": [
    "X_scaled_df.columns"
   ]
  },
  {
   "cell_type": "code",
   "execution_count": 75,
   "metadata": {},
   "outputs": [
    {
     "data": {
      "text/html": [
       "<div>\n",
       "<style scoped>\n",
       "    .dataframe tbody tr th:only-of-type {\n",
       "        vertical-align: middle;\n",
       "    }\n",
       "\n",
       "    .dataframe tbody tr th {\n",
       "        vertical-align: top;\n",
       "    }\n",
       "\n",
       "    .dataframe thead th {\n",
       "        text-align: right;\n",
       "    }\n",
       "</style>\n",
       "<table border=\"1\" class=\"dataframe\">\n",
       "  <thead>\n",
       "    <tr style=\"text-align: right;\">\n",
       "      <th></th>\n",
       "      <th>PC1</th>\n",
       "      <th>PC2</th>\n",
       "      <th>PC3</th>\n",
       "      <th>PC4</th>\n",
       "      <th>PC5</th>\n",
       "      <th>PC6</th>\n",
       "      <th>PC7</th>\n",
       "      <th>PC8</th>\n",
       "      <th>PC9</th>\n",
       "      <th>PC10</th>\n",
       "      <th>...</th>\n",
       "      <th>PC41</th>\n",
       "      <th>PC42</th>\n",
       "      <th>PC43</th>\n",
       "      <th>PC44</th>\n",
       "      <th>PC45</th>\n",
       "      <th>PC46</th>\n",
       "      <th>PC47</th>\n",
       "      <th>PC48</th>\n",
       "      <th>PC49</th>\n",
       "      <th>PC50</th>\n",
       "    </tr>\n",
       "  </thead>\n",
       "  <tbody>\n",
       "    <tr>\n",
       "      <th>0</th>\n",
       "      <td>-1.543054</td>\n",
       "      <td>-0.351040</td>\n",
       "      <td>-2.349083</td>\n",
       "      <td>0.922245</td>\n",
       "      <td>1.812323</td>\n",
       "      <td>-1.299009</td>\n",
       "      <td>0.402664</td>\n",
       "      <td>-0.311684</td>\n",
       "      <td>0.340490</td>\n",
       "      <td>0.365845</td>\n",
       "      <td>...</td>\n",
       "      <td>-0.011485</td>\n",
       "      <td>0.036450</td>\n",
       "      <td>0.009046</td>\n",
       "      <td>-0.029296</td>\n",
       "      <td>0.033183</td>\n",
       "      <td>0.009891</td>\n",
       "      <td>0.001188</td>\n",
       "      <td>-0.015412</td>\n",
       "      <td>-0.020720</td>\n",
       "      <td>-0.020184</td>\n",
       "    </tr>\n",
       "    <tr>\n",
       "      <th>1</th>\n",
       "      <td>-0.262284</td>\n",
       "      <td>0.469452</td>\n",
       "      <td>-1.175012</td>\n",
       "      <td>-0.620178</td>\n",
       "      <td>-1.765332</td>\n",
       "      <td>1.339414</td>\n",
       "      <td>-0.752589</td>\n",
       "      <td>2.184293</td>\n",
       "      <td>-1.520510</td>\n",
       "      <td>0.132280</td>\n",
       "      <td>...</td>\n",
       "      <td>-0.128734</td>\n",
       "      <td>0.005709</td>\n",
       "      <td>-0.055363</td>\n",
       "      <td>-0.032090</td>\n",
       "      <td>-0.065161</td>\n",
       "      <td>-0.084384</td>\n",
       "      <td>0.092278</td>\n",
       "      <td>-0.051706</td>\n",
       "      <td>0.162222</td>\n",
       "      <td>-0.024231</td>\n",
       "    </tr>\n",
       "    <tr>\n",
       "      <th>2</th>\n",
       "      <td>-0.806118</td>\n",
       "      <td>-0.766205</td>\n",
       "      <td>-1.196409</td>\n",
       "      <td>-0.661712</td>\n",
       "      <td>-1.144423</td>\n",
       "      <td>1.023630</td>\n",
       "      <td>-1.264844</td>\n",
       "      <td>0.028206</td>\n",
       "      <td>-0.014984</td>\n",
       "      <td>2.376745</td>\n",
       "      <td>...</td>\n",
       "      <td>-0.044721</td>\n",
       "      <td>0.048725</td>\n",
       "      <td>-0.006063</td>\n",
       "      <td>-0.044698</td>\n",
       "      <td>-0.032994</td>\n",
       "      <td>0.072767</td>\n",
       "      <td>-0.119020</td>\n",
       "      <td>-0.069531</td>\n",
       "      <td>0.133735</td>\n",
       "      <td>-0.031042</td>\n",
       "    </tr>\n",
       "    <tr>\n",
       "      <th>3</th>\n",
       "      <td>-0.527778</td>\n",
       "      <td>1.179690</td>\n",
       "      <td>-2.626086</td>\n",
       "      <td>-0.010062</td>\n",
       "      <td>-1.439540</td>\n",
       "      <td>1.189319</td>\n",
       "      <td>0.323471</td>\n",
       "      <td>1.630906</td>\n",
       "      <td>-0.865499</td>\n",
       "      <td>-1.058711</td>\n",
       "      <td>...</td>\n",
       "      <td>-0.098917</td>\n",
       "      <td>-0.031150</td>\n",
       "      <td>-0.048058</td>\n",
       "      <td>0.037825</td>\n",
       "      <td>0.032826</td>\n",
       "      <td>-0.121498</td>\n",
       "      <td>0.154628</td>\n",
       "      <td>0.021602</td>\n",
       "      <td>-0.005369</td>\n",
       "      <td>0.030793</td>\n",
       "    </tr>\n",
       "    <tr>\n",
       "      <th>4</th>\n",
       "      <td>-0.293911</td>\n",
       "      <td>-1.089864</td>\n",
       "      <td>-0.033716</td>\n",
       "      <td>1.154786</td>\n",
       "      <td>0.160998</td>\n",
       "      <td>-1.073128</td>\n",
       "      <td>-0.563806</td>\n",
       "      <td>-0.243514</td>\n",
       "      <td>-0.191346</td>\n",
       "      <td>0.021600</td>\n",
       "      <td>...</td>\n",
       "      <td>-0.039948</td>\n",
       "      <td>-0.030153</td>\n",
       "      <td>0.034475</td>\n",
       "      <td>-0.034592</td>\n",
       "      <td>-0.006472</td>\n",
       "      <td>-0.061621</td>\n",
       "      <td>0.084270</td>\n",
       "      <td>-0.110246</td>\n",
       "      <td>0.090633</td>\n",
       "      <td>-0.233146</td>\n",
       "    </tr>\n",
       "  </tbody>\n",
       "</table>\n",
       "<p>5 rows × 50 columns</p>\n",
       "</div>"
      ],
      "text/plain": [
       "        PC1       PC2       PC3       PC4       PC5       PC6       PC7  \\\n",
       "0 -1.543054 -0.351040 -2.349083  0.922245  1.812323 -1.299009  0.402664   \n",
       "1 -0.262284  0.469452 -1.175012 -0.620178 -1.765332  1.339414 -0.752589   \n",
       "2 -0.806118 -0.766205 -1.196409 -0.661712 -1.144423  1.023630 -1.264844   \n",
       "3 -0.527778  1.179690 -2.626086 -0.010062 -1.439540  1.189319  0.323471   \n",
       "4 -0.293911 -1.089864 -0.033716  1.154786  0.160998 -1.073128 -0.563806   \n",
       "\n",
       "        PC8       PC9      PC10  ...      PC41      PC42      PC43      PC44  \\\n",
       "0 -0.311684  0.340490  0.365845  ... -0.011485  0.036450  0.009046 -0.029296   \n",
       "1  2.184293 -1.520510  0.132280  ... -0.128734  0.005709 -0.055363 -0.032090   \n",
       "2  0.028206 -0.014984  2.376745  ... -0.044721  0.048725 -0.006063 -0.044698   \n",
       "3  1.630906 -0.865499 -1.058711  ... -0.098917 -0.031150 -0.048058  0.037825   \n",
       "4 -0.243514 -0.191346  0.021600  ... -0.039948 -0.030153  0.034475 -0.034592   \n",
       "\n",
       "       PC45      PC46      PC47      PC48      PC49      PC50  \n",
       "0  0.033183  0.009891  0.001188 -0.015412 -0.020720 -0.020184  \n",
       "1 -0.065161 -0.084384  0.092278 -0.051706  0.162222 -0.024231  \n",
       "2 -0.032994  0.072767 -0.119020 -0.069531  0.133735 -0.031042  \n",
       "3  0.032826 -0.121498  0.154628  0.021602 -0.005369  0.030793  \n",
       "4 -0.006472 -0.061621  0.084270 -0.110246  0.090633 -0.233146  \n",
       "\n",
       "[5 rows x 50 columns]"
      ]
     },
     "execution_count": 75,
     "metadata": {},
     "output_type": "execute_result"
    }
   ],
   "source": [
    "X_scaled_df.head()"
   ]
  },
  {
   "cell_type": "code",
   "execution_count": 76,
   "metadata": {},
   "outputs": [
    {
     "name": "stdout",
     "output_type": "stream",
     "text": [
      "selected features are Index(['PC1', 'PC2', 'PC3', 'PC4', 'PC5', 'PC6', 'PC7', 'PC8', 'PC9', 'PC10',\n",
      "       'PC11', 'PC12', 'PC13', 'PC14', 'PC15', 'PC16', 'PC17', 'PC18', 'PC19',\n",
      "       'PC20', 'PC21', 'PC22', 'PC23', 'PC24', 'PC25', 'PC26', 'PC27', 'PC28',\n",
      "       'PC29', 'PC30', 'PC31', 'PC32', 'PC33', 'PC34', 'PC35', 'PC36', 'PC37',\n",
      "       'PC38', 'PC39', 'PC40', 'PC41', 'PC42', 'PC43', 'PC44', 'PC45', 'PC46',\n",
      "       'PC47', 'PC48', 'PC49', 'PC50'],\n",
      "      dtype='object')\n"
     ]
    }
   ],
   "source": [
    "from sklearn.feature_selection import VarianceThreshold\n",
    "\n",
    "variance_threshold = VarianceThreshold(threshold=0.1)\n",
    "\n",
    "df_selected = variance_threshold.fit_transform(X_scaled_df)\n",
    "\n",
    "selected_features = X_scaled_df.columns[variance_threshold.get_support()]\n",
    "\n",
    "print(\"selected features are\", selected_features)\n",
    "\n"
   ]
  },
  {
   "cell_type": "code",
   "execution_count": 77,
   "metadata": {},
   "outputs": [
    {
     "data": {
      "text/plain": [
       "(10348, 50)"
      ]
     },
     "execution_count": 77,
     "metadata": {},
     "output_type": "execute_result"
    }
   ],
   "source": [
    "\n",
    "new_df = pd.DataFrame(df_selected, columns=selected_features)\n",
    "\n",
    "new_df.shape"
   ]
  },
  {
   "cell_type": "code",
   "execution_count": 78,
   "metadata": {},
   "outputs": [
    {
     "data": {
      "text/plain": [
       "array([0.11692143, 0.19877921, 0.10340423, 0.05957277, 0.0407367 ,\n",
       "       0.09324904, 0.02080397, 0.15765976, 0.04792037, 0.05990489,\n",
       "       0.01956529, 0.02453464, 0.02287294, 0.02140293, 0.02202636,\n",
       "       0.0254521 , 0.05184945, 0.06583197, 0.0259025 , 0.0939432 ,\n",
       "       0.05598219, 0.03081691, 0.03001366, 0.03898715, 0.01970619,\n",
       "       0.03234895, 0.07677672, 0.01719491, 0.01351328, 0.01274601,\n",
       "       0.00591971, 0.06002631, 0.02541196, 0.02248366, 0.00639139,\n",
       "       0.01579183, 0.01219566, 0.02806959, 0.01311045, 0.01778286,\n",
       "       0.02694714, 0.02174484, 0.02504067, 0.02230216, 0.01287833,\n",
       "       0.01760572, 0.01953561, 0.04161329, 0.03330412, 0.05196662])"
      ]
     },
     "execution_count": 78,
     "metadata": {},
     "output_type": "execute_result"
    }
   ],
   "source": [
    "from sklearn.feature_selection import mutual_info_classif\n",
    "\n",
    "mi_classif = mutual_info_classif(new_df, Y_resampled)\n",
    "\n",
    "mi_classif"
   ]
  },
  {
   "cell_type": "code",
   "execution_count": 82,
   "metadata": {},
   "outputs": [
    {
     "name": "stdout",
     "output_type": "stream",
     "text": [
      "            PC1       PC2       PC3       PC4       PC5       PC6       PC7  \\\n",
      "0     -1.543054 -0.351040 -2.349083  0.922245  1.812323 -1.299009  0.402664   \n",
      "1     -0.262284  0.469452 -1.175012 -0.620178 -1.765332  1.339414 -0.752589   \n",
      "2     -0.806118 -0.766205 -1.196409 -0.661712 -1.144423  1.023630 -1.264844   \n",
      "3     -0.527778  1.179690 -2.626086 -0.010062 -1.439540  1.189319  0.323471   \n",
      "4     -0.293911 -1.089864 -0.033716  1.154786  0.160998 -1.073128 -0.563806   \n",
      "...         ...       ...       ...       ...       ...       ...       ...   \n",
      "10343  0.017463 -1.174378  0.211200  0.914261  0.015589 -1.061992  0.475827   \n",
      "10344 -1.161781 -0.416782 -2.344844 -1.092318 -1.413826  1.125780  0.640931   \n",
      "10345 -0.975994 -0.314321 -1.075391  0.714707 -0.426767 -1.073852 -0.711905   \n",
      "10346 -1.726116  0.133781  1.140325  0.211156 -0.836204 -0.019458  0.708241   \n",
      "10347  0.249511 -0.938177 -0.035834 -0.549916 -0.354446  0.416254 -0.675960   \n",
      "\n",
      "            PC8       PC9      PC10  ...      PC41      PC42      PC43  \\\n",
      "0     -0.311684  0.340490  0.365845  ... -0.011485  0.036450  0.009046   \n",
      "1      2.184293 -1.520510  0.132280  ... -0.128734  0.005709 -0.055363   \n",
      "2      0.028206 -0.014984  2.376745  ... -0.044721  0.048725 -0.006063   \n",
      "3      1.630906 -0.865499 -1.058711  ... -0.098917 -0.031150 -0.048058   \n",
      "4     -0.243514 -0.191346  0.021600  ... -0.039948 -0.030153  0.034475   \n",
      "...         ...       ...       ...  ...       ...       ...       ...   \n",
      "10343 -0.273044 -0.129665 -0.112497  ... -0.002685 -0.020206  0.053570   \n",
      "10344 -0.469384 -0.720006  0.461203  ... -0.099687  0.030478 -0.036710   \n",
      "10345 -0.212353  0.595513  0.392607  ... -0.030356 -0.013527 -0.010408   \n",
      "10346 -0.006498 -0.873339 -0.611752  ... -0.030008  0.038129 -0.057844   \n",
      "10347 -0.009424  0.062665  1.575953  ... -0.051703  0.018000  0.021291   \n",
      "\n",
      "           PC44      PC45      PC46      PC47      PC48      PC49      PC50  \n",
      "0     -0.029296  0.033183  0.009891  0.001188 -0.015412 -0.020720 -0.020184  \n",
      "1     -0.032090 -0.065161 -0.084384  0.092278 -0.051706  0.162222 -0.024231  \n",
      "2     -0.044698 -0.032994  0.072767 -0.119020 -0.069531  0.133735 -0.031042  \n",
      "3      0.037825  0.032826 -0.121498  0.154628  0.021602 -0.005369  0.030793  \n",
      "4     -0.034592 -0.006472 -0.061621  0.084270 -0.110246  0.090633 -0.233146  \n",
      "...         ...       ...       ...       ...       ...       ...       ...  \n",
      "10343 -0.039103 -0.004723 -0.022317  0.034673 -0.078375  0.067946 -0.171390  \n",
      "10344  0.040001  0.010035 -0.021862  0.098010  0.010928  0.042168  0.059924  \n",
      "10345 -0.087413 -0.042468 -0.014914 -0.086198 -0.074044  0.075028 -0.100519  \n",
      "10346 -0.045007  0.063263  0.000768 -0.017351  0.116348  0.028048  0.115268  \n",
      "10347  0.019032  0.013643  0.010302 -0.008277 -0.049547  0.083944 -0.153240  \n",
      "\n",
      "[10348 rows x 50 columns]\n"
     ]
    }
   ],
   "source": [
    "# Convert to Pandas DataFrame with Feature Names\n",
    "mi_df = pd.DataFrame(data=new_df, columns= new_df.columns)\n",
    "\n",
    "# Sort Features by Importance\n",
    "# mi_df = mi_df.sort_values(by=\"Mutual_Information\", ascending=False)\n",
    "\n",
    "print(mi_df)"
   ]
  },
  {
   "cell_type": "code",
   "execution_count": 84,
   "metadata": {},
   "outputs": [
    {
     "data": {
      "image/png": "[encoded data removed]",
      "text/plain": [
       "<Figure size 640x480 with 2 Axes>"
      ]
     },
     "metadata": {},
     "output_type": "display_data"
    }
   ],
   "source": [
    "import seaborn as sns\n",
    "import matplotlib.pyplot as plt\n",
    "\n",
    "sns.heatmap(mi_df.corr())\n",
    "plt.show()"
   ]
  },
  {
   "cell_type": "code",
   "execution_count": 85,
   "metadata": {},
   "outputs": [
    {
     "name": "stdout",
     "output_type": "stream",
     "text": [
      "Highly Correlated Columns set()\n"
     ]
    }
   ],
   "source": [
    "correlated_columns = set()\n",
    "\n",
    "corr_matrix = mi_df.corr().abs()\n",
    "\n",
    "threshold = 0.8\n",
    "\n",
    "for i in range(len(corr_matrix.columns)):\n",
    "    for j in range(i):\n",
    "      if corr_matrix.iloc[i,j] > threshold:\n",
    "         correlated_columns.add(corr_matrix.columns[i])\n",
    "\n",
    "\n",
    "print(\"Highly Correlated Columns\", correlated_columns)\n",
    "\n",
    "\n",
    "df_filtered =  mi_df.drop(columns=correlated_columns)"
   ]
  },
  {
   "cell_type": "code",
   "execution_count": 86,
   "metadata": {},
   "outputs": [
    {
     "data": {
      "text/plain": [
       "((7243, 50), (3105, 50), (7243,), (3105,))"
      ]
     },
     "execution_count": 86,
     "metadata": {},
     "output_type": "execute_result"
    }
   ],
   "source": [
    "from sklearn.model_selection import train_test_split\n",
    "\n",
    "x_train, x_test, y_train, y_test = train_test_split(mi_df, Y_resampled, test_size=0.3)\n",
    "\n",
    "x_train.shape, x_test.shape, y_train.shape, y_test.shape"
   ]
  },
  {
   "cell_type": "code",
   "execution_count": 87,
   "metadata": {},
   "outputs": [
    {
     "name": "stdout",
     "output_type": "stream",
     "text": [
      "Logistic Regression Accuracy: 0.7632850241545893\n"
     ]
    }
   ],
   "source": [
    "from sklearn.linear_model import LogisticRegression\n",
    "from sklearn.metrics import accuracy_score\n",
    "\n",
    "model = LogisticRegression()\n",
    "model.fit(x_train, y_train)\n",
    "\n",
    "y_pred = model.predict(x_test)\n",
    "print(\"Logistic Regression Accuracy:\", accuracy_score(y_test, y_pred))\n"
   ]
  },
  {
   "cell_type": "code",
   "execution_count": 88,
   "metadata": {},
   "outputs": [
    {
     "name": "stdout",
     "output_type": "stream",
     "text": [
      "Logistic Regression Accuracy: 0.8486312399355878\n"
     ]
    }
   ],
   "source": [
    "from sklearn.ensemble import RandomForestClassifier\n",
    "\n",
    "random_forest = RandomForestClassifier()\n",
    "\n",
    "random_forest.fit(x_train, y_train)\n",
    "\n",
    "y_pred = random_forest.predict(x_test)\n",
    "print(\"Logistic Regression Accuracy:\", accuracy_score(y_test, y_pred))"
   ]
  },
  {
   "cell_type": "code",
   "execution_count": 90,
   "metadata": {},
   "outputs": [
    {
     "name": "stdout",
     "output_type": "stream",
     "text": [
      "Collecting xgboostNote: you may need to restart the kernel to use updated packages.\n",
      "\n",
      "  Downloading xgboost-3.0.0-py3-none-win_amd64.whl.metadata (2.1 kB)\n",
      "Requirement already satisfied: numpy in c:\\users\\sande\\anaconda3\\lib\\site-packages (from xgboost) (1.26.4)\n",
      "Requirement already satisfied: scipy in c:\\users\\sande\\anaconda3\\lib\\site-packages (from xgboost) (1.13.1)\n",
      "Downloading xgboost-3.0.0-py3-none-win_amd64.whl (150.0 MB)\n",
      "   ---------------------------------------- 0.0/150.0 MB ? eta -:--:--\n",
      "   ---------------------------------------- 1.8/150.0 MB 10.1 MB/s eta 0:00:15\n",
      "   - -------------------------------------- 5.0/150.0 MB 13.1 MB/s eta 0:00:12\n",
      "   - -------------------------------------- 7.3/150.0 MB 12.6 MB/s eta 0:00:12\n",
      "   -- ------------------------------------- 8.4/150.0 MB 10.4 MB/s eta 0:00:14\n",
      "   -- ------------------------------------- 8.7/150.0 MB 9.4 MB/s eta 0:00:16\n",
      "   -- ------------------------------------- 9.4/150.0 MB 7.9 MB/s eta 0:00:18\n",
      "   -- ------------------------------------- 10.5/150.0 MB 7.5 MB/s eta 0:00:19\n",
      "   --- ------------------------------------ 12.1/150.0 MB 7.4 MB/s eta 0:00:19\n",
      "   --- ------------------------------------ 13.9/150.0 MB 7.6 MB/s eta 0:00:18\n",
      "   ---- ----------------------------------- 16.3/150.0 MB 7.9 MB/s eta 0:00:17\n",
      "   ---- ----------------------------------- 18.6/150.0 MB 8.2 MB/s eta 0:00:16\n",
      "   ----- ---------------------------------- 19.9/150.0 MB 8.2 MB/s eta 0:00:16\n",
      "   ----- ---------------------------------- 21.0/150.0 MB 7.8 MB/s eta 0:00:17\n",
      "   ----- ---------------------------------- 22.3/150.0 MB 7.7 MB/s eta 0:00:17\n",
      "   ------ --------------------------------- 24.1/150.0 MB 7.8 MB/s eta 0:00:17\n",
      "   ------ --------------------------------- 26.2/150.0 MB 7.9 MB/s eta 0:00:16\n",
      "   ------- -------------------------------- 28.0/150.0 MB 7.9 MB/s eta 0:00:16\n",
      "   ------- -------------------------------- 29.6/150.0 MB 8.0 MB/s eta 0:00:16\n",
      "   -------- ------------------------------- 30.7/150.0 MB 7.8 MB/s eta 0:00:16\n",
      "   -------- ------------------------------- 31.7/150.0 MB 7.7 MB/s eta 0:00:16\n",
      "   -------- ------------------------------- 33.3/150.0 MB 7.7 MB/s eta 0:00:16\n",
      "   --------- ------------------------------ 34.9/150.0 MB 7.7 MB/s eta 0:00:16\n",
      "   --------- ------------------------------ 37.0/150.0 MB 7.8 MB/s eta 0:00:15\n",
      "   ---------- ----------------------------- 38.8/150.0 MB 7.8 MB/s eta 0:00:15\n",
      "   ---------- ----------------------------- 40.4/150.0 MB 7.8 MB/s eta 0:00:15\n",
      "   ----------- ---------------------------- 41.9/150.0 MB 7.7 MB/s eta 0:00:14\n",
      "   ----------- ---------------------------- 43.3/150.0 MB 7.7 MB/s eta 0:00:14\n",
      "   ----------- ---------------------------- 44.0/150.0 MB 7.6 MB/s eta 0:00:15\n",
      "   ------------ --------------------------- 45.4/150.0 MB 7.5 MB/s eta 0:00:14\n",
      "   ------------ --------------------------- 47.2/150.0 MB 7.5 MB/s eta 0:00:14\n",
      "   ------------- -------------------------- 49.3/150.0 MB 7.5 MB/s eta 0:00:14\n",
      "   ------------- -------------------------- 51.4/150.0 MB 7.6 MB/s eta 0:00:13\n",
      "   -------------- ------------------------- 54.0/150.0 MB 7.7 MB/s eta 0:00:13\n",
      "   -------------- ------------------------- 55.8/150.0 MB 7.8 MB/s eta 0:00:13\n",
      "   --------------- ------------------------ 56.6/150.0 MB 7.7 MB/s eta 0:00:13\n",
      "   --------------- ------------------------ 57.7/150.0 MB 7.6 MB/s eta 0:00:13\n",
      "   --------------- ------------------------ 58.7/150.0 MB 7.5 MB/s eta 0:00:13\n",
      "   ---------------- ----------------------- 60.6/150.0 MB 7.6 MB/s eta 0:00:12\n",
      "   ---------------- ----------------------- 62.7/150.0 MB 7.6 MB/s eta 0:00:12\n",
      "   ----------------- ---------------------- 64.7/150.0 MB 7.7 MB/s eta 0:00:12\n",
      "   ----------------- ---------------------- 65.8/150.0 MB 7.6 MB/s eta 0:00:12\n",
      "   ----------------- ---------------------- 66.8/150.0 MB 7.5 MB/s eta 0:00:12\n",
      "   ------------------ --------------------- 68.4/150.0 MB 7.5 MB/s eta 0:00:11\n",
      "   ------------------ --------------------- 70.5/150.0 MB 7.6 MB/s eta 0:00:11\n",
      "   ------------------- -------------------- 72.6/150.0 MB 7.6 MB/s eta 0:00:11\n",
      "   ------------------- -------------------- 74.2/150.0 MB 7.7 MB/s eta 0:00:10\n",
      "   -------------------- ------------------- 75.5/150.0 MB 7.6 MB/s eta 0:00:10\n",
      "   -------------------- ------------------- 76.5/150.0 MB 7.5 MB/s eta 0:00:10\n",
      "   -------------------- ------------------- 78.1/150.0 MB 7.5 MB/s eta 0:00:10\n",
      "   --------------------- ------------------ 80.0/150.0 MB 7.6 MB/s eta 0:00:10\n",
      "   --------------------- ------------------ 81.8/150.0 MB 7.6 MB/s eta 0:00:09\n",
      "   ---------------------- ----------------- 83.9/150.0 MB 7.6 MB/s eta 0:00:09\n",
      "   ---------------------- ----------------- 85.7/150.0 MB 7.6 MB/s eta 0:00:09\n",
      "   ----------------------- ---------------- 87.0/150.0 MB 7.6 MB/s eta 0:00:09\n",
      "   ----------------------- ---------------- 87.8/150.0 MB 7.6 MB/s eta 0:00:09\n",
      "   ----------------------- ---------------- 88.9/150.0 MB 7.5 MB/s eta 0:00:09\n",
      "   ------------------------ --------------- 90.4/150.0 MB 7.5 MB/s eta 0:00:08\n",
      "   ------------------------ --------------- 92.0/150.0 MB 7.5 MB/s eta 0:00:08\n",
      "   ------------------------- -------------- 94.1/150.0 MB 7.5 MB/s eta 0:00:08\n",
      "   ------------------------- -------------- 96.5/150.0 MB 7.6 MB/s eta 0:00:08\n",
      "   -------------------------- ------------- 97.5/150.0 MB 7.6 MB/s eta 0:00:07\n",
      "   -------------------------- ------------- 98.8/150.0 MB 7.5 MB/s eta 0:00:07\n",
      "   -------------------------- ------------- 100.1/150.0 MB 7.5 MB/s eta 0:00:07\n",
      "   --------------------------- ------------ 102.2/150.0 MB 7.6 MB/s eta 0:00:07\n",
      "   --------------------------- ------------ 104.1/150.0 MB 7.6 MB/s eta 0:00:07\n",
      "   ---------------------------- ----------- 105.4/150.0 MB 7.6 MB/s eta 0:00:06\n",
      "   ---------------------------- ----------- 106.2/150.0 MB 7.5 MB/s eta 0:00:06\n",
      "   ---------------------------- ----------- 107.2/150.0 MB 7.5 MB/s eta 0:00:06\n",
      "   ----------------------------- ---------- 108.8/150.0 MB 7.5 MB/s eta 0:00:06\n",
      "   ----------------------------- ---------- 110.6/150.0 MB 7.5 MB/s eta 0:00:06\n",
      "   ----------------------------- ---------- 112.5/150.0 MB 7.5 MB/s eta 0:00:05\n",
      "   ------------------------------ --------- 114.6/150.0 MB 7.6 MB/s eta 0:00:05\n",
      "   ------------------------------ --------- 115.9/150.0 MB 7.5 MB/s eta 0:00:05\n",
      "   ------------------------------- -------- 116.9/150.0 MB 7.5 MB/s eta 0:00:05\n",
      "   ------------------------------- -------- 118.8/150.0 MB 7.5 MB/s eta 0:00:05\n",
      "   -------------------------------- ------- 120.6/150.0 MB 7.5 MB/s eta 0:00:04\n",
      "   -------------------------------- ------- 122.7/150.0 MB 7.6 MB/s eta 0:00:04\n",
      "   --------------------------------- ------ 124.0/150.0 MB 7.5 MB/s eta 0:00:04\n",
      "   --------------------------------- ------ 125.0/150.0 MB 7.5 MB/s eta 0:00:04\n",
      "   --------------------------------- ------ 126.6/150.0 MB 7.5 MB/s eta 0:00:04\n",
      "   ---------------------------------- ----- 128.5/150.0 MB 7.5 MB/s eta 0:00:03\n",
      "   ---------------------------------- ----- 130.3/150.0 MB 7.5 MB/s eta 0:00:03\n",
      "   ----------------------------------- ---- 131.9/150.0 MB 7.5 MB/s eta 0:00:03\n",
      "   ----------------------------------- ---- 133.7/150.0 MB 7.5 MB/s eta 0:00:03\n",
      "   ------------------------------------ --- 135.3/150.0 MB 7.5 MB/s eta 0:00:02\n",
      "   ------------------------------------ --- 136.3/150.0 MB 7.5 MB/s eta 0:00:02\n",
      "   ------------------------------------ --- 137.9/150.0 MB 7.5 MB/s eta 0:00:02\n",
      "   ------------------------------------- -- 140.0/150.0 MB 7.5 MB/s eta 0:00:02\n",
      "   ------------------------------------- -- 141.8/150.0 MB 7.5 MB/s eta 0:00:02\n",
      "   -------------------------------------- - 143.7/150.0 MB 7.6 MB/s eta 0:00:01\n",
      "   -------------------------------------- - 144.4/150.0 MB 7.5 MB/s eta 0:00:01\n",
      "   -------------------------------------- - 145.5/150.0 MB 7.5 MB/s eta 0:00:01\n",
      "   ---------------------------------------  146.8/150.0 MB 7.5 MB/s eta 0:00:01\n",
      "   ---------------------------------------  148.4/150.0 MB 7.5 MB/s eta 0:00:01\n",
      "   ---------------------------------------  149.9/150.0 MB 7.5 MB/s eta 0:00:01\n",
      "   ---------------------------------------  149.9/150.0 MB 7.5 MB/s eta 0:00:01\n",
      "   ---------------------------------------  149.9/150.0 MB 7.5 MB/s eta 0:00:01\n",
      "   ---------------------------------------  149.9/150.0 MB 7.5 MB/s eta 0:00:01\n",
      "   ---------------------------------------  149.9/150.0 MB 7.5 MB/s eta 0:00:01\n",
      "   ---------------------------------------- 150.0/150.0 MB 7.1 MB/s eta 0:00:00\n",
      "Installing collected packages: xgboost\n",
      "Successfully installed xgboost-3.0.0\n"
     ]
    }
   ],
   "source": [
    "!pip install xgboost\n"
   ]
  },
  {
   "cell_type": "code",
   "execution_count": 91,
   "metadata": {},
   "outputs": [
    {
     "name": "stderr",
     "output_type": "stream",
     "text": [
      "c:\\Users\\sande\\anaconda3\\Lib\\site-packages\\xgboost\\training.py:183: UserWarning: [17:00:44] WARNING: C:\\actions-runner\\_work\\xgboost\\xgboost\\src\\learner.cc:738: \n",
      "Parameters: { \"use_label_encoder\" } are not used.\n",
      "\n",
      "  bst.update(dtrain, iteration=i, fobj=obj)\n"
     ]
    },
    {
     "name": "stdout",
     "output_type": "stream",
     "text": [
      "XGB Classifier Accuracy: 0.8412238325281803\n"
     ]
    }
   ],
   "source": [
    "from xgboost import XGBClassifier\n",
    "\n",
    "xgb = XGBClassifier(use_label_encoder=False, eval_metric=\"logloss\")\n",
    "\n",
    "xgb.fit(x_train, y_train)\n",
    "\n",
    "y_pred = xgb.predict(x_test)\n",
    "print(\"XGB Classifier Accuracy:\", accuracy_score(y_test, y_pred))\n",
    "\n"
   ]
  },
  {
   "cell_type": "code",
   "execution_count": 92,
   "metadata": {},
   "outputs": [
    {
     "name": "stdout",
     "output_type": "stream",
     "text": [
      "SVC ACCURACY is  0.8045088566827697\n"
     ]
    }
   ],
   "source": [
    "from sklearn.svm import SVC\n",
    "\n",
    "svc = SVC()\n",
    "\n",
    "svc.fit(x_train, y_train)\n",
    "\n",
    "y_pred = svc.predict(x_test)\n",
    "\n",
    "print(\"SVC ACCURACY is \", accuracy_score(y_test, y_pred))"
   ]
  },
  {
   "cell_type": "code",
   "execution_count": 93,
   "metadata": {},
   "outputs": [
    {
     "name": "stdout",
     "output_type": "stream",
     "text": [
      "Best Random Forest Params: {'max_depth': 14, 'min_samples_leaf': 1, 'min_samples_split': 2, 'n_estimators': 108}\n"
     ]
    },
    {
     "name": "stderr",
     "output_type": "stream",
     "text": [
      "c:\\Users\\sande\\anaconda3\\Lib\\site-packages\\xgboost\\training.py:183: UserWarning: [17:08:11] WARNING: C:\\actions-runner\\_work\\xgboost\\xgboost\\src\\learner.cc:738: \n",
      "Parameters: { \"use_label_encoder\" } are not used.\n",
      "\n",
      "  bst.update(dtrain, iteration=i, fobj=obj)\n"
     ]
    },
    {
     "name": "stdout",
     "output_type": "stream",
     "text": [
      "Best XGBoost Params: {'learning_rate': 0.1, 'max_depth': 17, 'n_estimators': 156, 'subsample': 0.6}\n"
     ]
    }
   ],
   "source": [
    "from sklearn.model_selection import RandomizedSearchCV\n",
    "from sklearn.ensemble import RandomForestClassifier\n",
    "from xgboost import XGBClassifier\n",
    "from scipy.stats import randint\n",
    "\n",
    "# Define parameter grid for Random Forest\n",
    "rf_param_grid = {\n",
    "    'n_estimators': randint(50, 500),\n",
    "    'max_depth': randint(3, 20),\n",
    "    'min_samples_split': randint(2, 10),\n",
    "    'min_samples_leaf': randint(1, 5)\n",
    "}\n",
    "\n",
    "# Define parameter grid for XGBoost\n",
    "xgb_param_grid = {\n",
    "    'n_estimators': randint(50, 500),\n",
    "    'max_depth': randint(3, 20),\n",
    "    'learning_rate': [0.01, 0.05, 0.1, 0.2],\n",
    "    'subsample': [0.6, 0.8, 1.0]\n",
    "}\n",
    "\n",
    "# Initialize models\n",
    "rf = RandomForestClassifier(random_state=42)\n",
    "xgb = XGBClassifier(use_label_encoder=False, eval_metric='logloss', random_state=42)\n",
    "\n",
    "# Perform Randomized Search for Random Forest\n",
    "rf_search = RandomizedSearchCV(rf, rf_param_grid, n_iter=10, cv=3, scoring='accuracy', n_jobs=-1, random_state=42)\n",
    "rf_search.fit(x_train, y_train)\n",
    "print(\"Best Random Forest Params:\", rf_search.best_params_)\n",
    "\n",
    "# Perform Randomized Search for XGBoost\n",
    "xgb_search = RandomizedSearchCV(xgb, xgb_param_grid, n_iter=10, cv=3, scoring='accuracy', n_jobs=-1, random_state=42)\n",
    "xgb_search.fit(x_train, y_train)\n",
    "print(\"Best XGBoost Params:\", xgb_search.best_params_)\n"
   ]
  },
  {
   "cell_type": "code",
   "execution_count": null,
   "metadata": {},
   "outputs": [
    {
     "name": "stdout",
     "output_type": "stream",
     "text": [
      "priting accuracy is 0.8386473429951691\n"
     ]
    }
   ],
   "source": [
    "random_classfier_ = RandomForestClassifier(max_depth=14, min_samples_leaf=1,min_samples_split=2, n_estimators=108 )\n",
    "random_classifier_model = random_classfier_.fit(x_train, y_train)\n",
    "random_classifer_pred = random_classifier_model.predict(x_test)\n",
    "print(\"priting accuracy is\", accuracy_score(y_test, random_classifer_pred))\n"
   ]
  },
  {
   "cell_type": "code",
   "execution_count": 96,
   "metadata": {},
   "outputs": [
    {
     "name": "stderr",
     "output_type": "stream",
     "text": [
      "c:\\Users\\sande\\anaconda3\\Lib\\site-packages\\xgboost\\training.py:183: UserWarning: [17:13:29] WARNING: C:\\actions-runner\\_work\\xgboost\\xgboost\\src\\learner.cc:738: \n",
      "Parameters: { \"use_label_encoder\" } are not used.\n",
      "\n",
      "  bst.update(dtrain, iteration=i, fobj=obj)\n"
     ]
    },
    {
     "name": "stdout",
     "output_type": "stream",
     "text": [
      "priting accuracy is 0.8592592592592593\n"
     ]
    }
   ],
   "source": [
    "\n",
    "xgb_classifier_ = XGBClassifier(**xgb_search.best_params_ ,use_label_encoder=False, eval_metric='logloss', random_state=42)\n",
    "xgb_classifier__model = xgb_classifier_.fit(x_train, y_train)\n",
    "xgb_classifier_pred = xgb_classifier_.predict(x_test)\n",
    "print(\"priting accuracy is\", accuracy_score(y_test, xgb_classifier_pred))\n"
   ]
  },
  {
   "cell_type": "code",
   "execution_count": 98,
   "metadata": {},
   "outputs": [],
   "source": [
    "from sklearn.metrics import accuracy_score, precision_score, recall_score, f1_score, classification_report\n",
    "\n",
    "def metric_accuracy(y_test, y_pred):\n",
    "    print(\"Accuracy\", accuracy_score(y_test, y_pred))\n",
    "    print(\"Precision\", precision_score(y_test, y_pred))\n",
    "    print(\"Recall\", recall_score(y_test, y_pred))\n",
    "    print(\"f1_score\", f1_score(y_test, y_pred))\n",
    "    print(\"\\n🔹 Classification Report:\\n\", classification_report(y_test, y_pred))\n"
   ]
  },
  {
   "cell_type": "code",
   "execution_count": 99,
   "metadata": {},
   "outputs": [
    {
     "name": "stdout",
     "output_type": "stream",
     "text": [
      "Accuracy 0.8386473429951691\n",
      "Precision 0.8054892601431981\n",
      "Recall 0.8852459016393442\n",
      "f1_score 0.8434864104967198\n",
      "\n",
      "🔹 Classification Report:\n",
      "               precision    recall  f1-score   support\n",
      "\n",
      "           0       0.88      0.79      0.83      1580\n",
      "           1       0.81      0.89      0.84      1525\n",
      "\n",
      "    accuracy                           0.84      3105\n",
      "   macro avg       0.84      0.84      0.84      3105\n",
      "weighted avg       0.84      0.84      0.84      3105\n",
      "\n"
     ]
    }
   ],
   "source": [
    "metric_accuracy(y_test, random_classifer_pred)"
   ]
  },
  {
   "cell_type": "code",
   "execution_count": 101,
   "metadata": {},
   "outputs": [
    {
     "name": "stdout",
     "output_type": "stream",
     "text": [
      "Accuracy 0.8592592592592593\n",
      "Precision 0.8412797992471769\n",
      "Recall 0.879344262295082\n",
      "f1_score 0.8598909907021481\n",
      "\n",
      "🔹 Classification Report:\n",
      "               precision    recall  f1-score   support\n",
      "\n",
      "           0       0.88      0.84      0.86      1580\n",
      "           1       0.84      0.88      0.86      1525\n",
      "\n",
      "    accuracy                           0.86      3105\n",
      "   macro avg       0.86      0.86      0.86      3105\n",
      "weighted avg       0.86      0.86      0.86      3105\n",
      "\n"
     ]
    }
   ],
   "source": [
    "metric_accuracy(y_test, xgb_classifier_pred)"
   ]
  }
 ],
 "metadata": {
  "kernelspec": {
   "display_name": "base",
   "language": "python",
   "name": "python3"
  },
  "language_info": {
   "codemirror_mode": {
    "name": "ipython",
    "version": 3
   },
   "file_extension": ".py",
   "mimetype": "text/x-python",
   "name": "python",
   "nbconvert_exporter": "python",
   "pygments_lexer": "ipython3",
   "version": "3.12.7"
  }
 },
 "nbformat": 4,
 "nbformat_minor": 2
}
